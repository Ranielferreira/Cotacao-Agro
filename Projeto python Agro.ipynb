{
 "cells": [
  {
   "cell_type": "markdown",
   "id": "ef7acf31",
   "metadata": {},
   "source": [
    "Automatizando com Python para manter os cliente sempre informados e atualizados sobre o preço das principais culturas no Brasil."
   ]
  },
  {
   "cell_type": "code",
   "execution_count": 19,
   "id": "e3b14a02",
   "metadata": {},
   "outputs": [
    {
     "name": "stdout",
     "output_type": "stream",
     "text": [
      "172,24\n",
      "98,79\n",
      "1.043,41\n"
     ]
    }
   ],
   "source": [
    "#vamos usar o webdriver do chrome para pegar as cotações\n",
    "from selenium import webdriver\n",
    "from selenium.webdriver.common.keys import Keys\n",
    "\n",
    "navegador = webdriver.Chrome()\n",
    "navegador.get(\"https://www.melhorcambio.com/soja-hoje\")\n",
    "cotacao_soja = navegador.find_element_by_xpath('//*[@id=\"comercial\"]').get_attribute(\"value\")\n",
    "print(cotacao_soja)\n",
    "\n",
    "navegador.get(\"https://www.melhorcambio.com/milho-hoje\")\n",
    "cotacao_milho = navegador.find_element_by_xpath('//*[@id=\"comercial\"]').get_attribute(\"value\")\n",
    "print(cotacao_milho)\n",
    "\n",
    "navegador.get(\"https://www.melhorcambio.com/cafe-hoje\")\n",
    "cotacao_cafe = navegador.find_element_by_xpath('//*[@id=\"comercial\"]').get_attribute(\"value\")\n",
    "print(cotacao_cafe)\n",
    "\n"
   ]
  },
  {
   "cell_type": "code",
   "execution_count": 18,
   "id": "752da955",
   "metadata": {},
   "outputs": [],
   "source": [
    "#utilizaremos outra forma de automatização e dessa vez é o 'pyautogui' para mandar o email\n",
    "import pyautogui\n",
    "import time\n",
    "import pyperclip\n",
    "\n",
    "pyautogui.PAUSE = 1\n",
    "\n",
    "pyautogui.alert('Sua tarefa irá ser executada, aperte OK e nao mexa mais em nada')\n",
    "pyautogui.hotkey('ctrl' , 't')\n",
    "#importante já estar logado no email\n",
    "link = 'https://mail.google.com/'\n",
    "pyperclip.copy(link)\n",
    "pyautogui.hotkey('ctrl' , 'v')\n",
    "pyautogui.press('enter')\n",
    "time.sleep(5)\n",
    "\n",
    "pyautogui.click(173,250)\n",
    "pyautogui.write('ranielferreiramachado483@gmail.com')\n",
    "pyautogui.press('tab')\n",
    "pyautogui.press('tab')\n",
    "assunto = 'Relatório dos preços da soja, milho e café'\n",
    "pyperclip.copy(assunto)\n",
    "pyautogui.hotkey('ctrl' , 'v')\n",
    "\n",
    "pyautogui.press('tab')\n",
    "texto = f\"\"\"\n",
    "Prezado senhor Raniel, bom dia\n",
    "\n",
    "Segue abaixo os valores das culturas\n",
    "Soja R${cotacao_soja}\n",
    "Milho R${cotacao_milho}\n",
    "Café R${cotacao_cafe}\n",
    "Abs\n",
    "Programador python\"\"\"\n",
    "pyperclip.copy(texto)\n",
    "pyautogui.hotkey('ctrl' , 'v')\n",
    "pyautogui.hotkey('ctrl' , 'enter')\n",
    "\n",
    "\n",
    "\n"
   ]
  },
  {
   "cell_type": "code",
   "execution_count": 16,
   "id": "b467c5cf",
   "metadata": {},
   "outputs": [
    {
     "data": {
      "text/plain": [
       "Point(x=173, y=250)"
      ]
     },
     "execution_count": 16,
     "metadata": {},
     "output_type": "execute_result"
    }
   ],
   "source": [
    "#Use esse código para descobrir qual a posição de um item que queira clicar\n",
    "#Lembre-se: a posição na sua tela é diferente da posição na minha tela\n",
    "time.sleep(5)\n",
    "pyautogui.position()"
   ]
  },
  {
   "cell_type": "code",
   "execution_count": null,
   "id": "55fc6c02",
   "metadata": {},
   "outputs": [],
   "source": []
  }
 ],
 "metadata": {
  "kernelspec": {
   "display_name": "Python 3",
   "language": "python",
   "name": "python3"
  },
  "language_info": {
   "codemirror_mode": {
    "name": "ipython",
    "version": 3
   },
   "file_extension": ".py",
   "mimetype": "text/x-python",
   "name": "python",
   "nbconvert_exporter": "python",
   "pygments_lexer": "ipython3",
   "version": "3.8.8"
  }
 },
 "nbformat": 4,
 "nbformat_minor": 5
}
